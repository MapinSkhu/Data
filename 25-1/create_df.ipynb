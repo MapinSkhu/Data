{
 "cells": [
  {
   "cell_type": "code",
   "execution_count": 1,
   "id": "1507cd15-d791-4303-8211-bc13d82083e4",
   "metadata": {},
   "outputs": [],
   "source": [
    "import pdfplumber as pp\n",
    "import pandas as pd"
   ]
  },
  {
   "cell_type": "code",
   "execution_count": 2,
   "id": "f2db7dd5-006b-4389-a766-69d923234a57",
   "metadata": {},
   "outputs": [],
   "source": [
    "pdf = pp.open(\"pdf0116.pdf\")"
   ]
  },
  {
   "cell_type": "markdown",
   "id": "cc128503-5eec-413b-947c-baa4e2189cf4",
   "metadata": {},
   "source": [
    "# pdf의 필요한 테이블을 데이터프레임으로 저장"
   ]
  },
  {
   "cell_type": "code",
   "execution_count": 3,
   "id": "9f2973fc-7752-4374-b909-357935a03e39",
   "metadata": {},
   "outputs": [],
   "source": [
    "tables= []"
   ]
  },
  {
   "cell_type": "code",
   "execution_count": 7,
   "id": "0c260ec8-6187-4da4-9923-3444d318a732",
   "metadata": {},
   "outputs": [
    {
     "name": "stdout",
     "output_type": "stream",
     "text": [
      "[19, 20, 21, 22, 23, 24, 25, 26, 27, 28, 29, 30, 31, 32, 36, 40, 44, 48, 54, 55, 60, 64, 69, 74, 79, 80, 86, 87, 91, 94, 97, 101, 106, 110, 114, 120, 121]\n"
     ]
    }
   ],
   "source": [
    "pages = [i for i in range(19,32+1)]\n",
    "pages = pages + [36, 40, 44, 48, 54, 55, 60,\n",
    "                64, 69, 74, 79, 80, 86, 87, \n",
    "                91, 94, 97, 101, 106, 110, 114,\n",
    "                120, 121]\n",
    "print(pages)"
   ]
  },
  {
   "cell_type": "code",
   "execution_count": 8,
   "id": "e06409f9-2c4a-4d24-8223-355e4704367f",
   "metadata": {},
   "outputs": [
    {
     "name": "stdout",
     "output_type": "stream",
     "text": [
      "[[1, 2], [1, 2], [1], [1, 2, 3], [1, 2], [1, 2, 3], [1, 2], [1, 2], [1, 2], [1, 2, 3, 4], [1, 2], [1, 2], [1, 2, 3], [1, 2, 3], [1], [1], [1], [1], [1], [1], [1], [1], [1], [1], [1], [1], [1], [1], [1], [2], [2], [1], [1], [1], [1], [2], [1]]\n"
     ]
    }
   ],
   "source": [
    "turn = [[1,2], [1,2], [1], [1,2,3], [1,2], [1,2,3],[1,2],\n",
    "       [1,2],[1,2],[1,2,3,4],[1,2],[1,2],[1,2,3],[1,2,3],\n",
    "       [1],[1],[1],[1],[1],[1], [1],[1],[1],[1],[1],\n",
    "       [1],[1],[1],[1],[2],[2], [1],[1],[1],[1],[2],[1]]\n",
    "print(turn)"
   ]
  },
  {
   "cell_type": "code",
   "execution_count": null,
   "id": "d92ec64c-5308-4641-bbd2-bd251e21dcdd",
   "metadata": {},
   "outputs": [],
   "source": []
  }
 ],
 "metadata": {
  "kernelspec": {
   "display_name": "venv",
   "language": "python",
   "name": "venv"
  },
  "language_info": {
   "codemirror_mode": {
    "name": "ipython",
    "version": 3
   },
   "file_extension": ".py",
   "mimetype": "text/x-python",
   "name": "python",
   "nbconvert_exporter": "python",
   "pygments_lexer": "ipython3",
   "version": "3.9.7"
  }
 },
 "nbformat": 4,
 "nbformat_minor": 5
}
