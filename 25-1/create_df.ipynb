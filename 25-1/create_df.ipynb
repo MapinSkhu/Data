{
 "cells": [
  {
   "cell_type": "code",
   "execution_count": 1,
   "id": "1507cd15-d791-4303-8211-bc13d82083e4",
   "metadata": {},
   "outputs": [],
   "source": [
    "import pdfplumber as pp\n",
    "import pandas as pd"
   ]
  },
  {
   "cell_type": "code",
   "execution_count": 2,
   "id": "f2db7dd5-006b-4389-a766-69d923234a57",
   "metadata": {},
   "outputs": [],
   "source": [
    "pdf = pp.open(\"pdf0116.pdf\")"
   ]
  },
  {
   "cell_type": "markdown",
   "id": "cc128503-5eec-413b-947c-baa4e2189cf4",
   "metadata": {},
   "source": [
    "# pdf의 필요한 테이블을 데이터프레임으로 저장"
   ]
  },
  {
   "cell_type": "code",
   "execution_count": null,
   "id": "9f2973fc-7752-4374-b909-357935a03e39",
   "metadata": {},
   "outputs": [],
   "source": []
  },
  {
   "cell_type": "code",
   "execution_count": 3,
   "id": "0c260ec8-6187-4da4-9923-3444d318a732",
   "metadata": {},
   "outputs": [
    {
     "name": "stdout",
     "output_type": "stream",
     "text": [
      "37 [19, 20, 21, 22, 23, 24, 25, 26, 27, 28, 29, 30, 31, 32, 36, 40, 44, 48, 54, 55, 60, 64, 69, 74, 79, 80, 86, 87, 91, 94, 97, 101, 106, 110, 114, 120, 121]\n"
     ]
    }
   ],
   "source": [
    "pages = [i for i in range(19,32+1)]\n",
    "pages = pages + [36, 40, 44, 48, 54, 55, 60,\n",
    "                64, 69, 74, 79, 80, 86, 87, \n",
    "                91, 94, 97, 101, 106, 110, 114,\n",
    "                120, 121]\n",
    "print(len(pages), pages)"
   ]
  },
  {
   "cell_type": "code",
   "execution_count": 4,
   "id": "e06409f9-2c4a-4d24-8223-355e4704367f",
   "metadata": {},
   "outputs": [
    {
     "name": "stdout",
     "output_type": "stream",
     "text": [
      "37 56 [[1, 2], [1, 2], [1], [1, 2, 3], [1, 2], [1, 2, 3], [1, 2], [1, 2], [1, 2], [1, 2, 3, 4], [1, 2], [1, 2], [1, 2, 3], [1, 2, 3], [1], [1], [1], [1], [1], [1], [1], [1], [1], [1], [1], [1], [1], [1], [1], [2], [2], [1], [1], [1], [1], [2], [1]]\n"
     ]
    }
   ],
   "source": [
    "turn = [[1,2], [1,2], [1], [1,2,3], [1,2], [1,2,3],[1,2],\n",
    "       [1,2],[1,2],[1,2,3,4],[1,2],[1,2],[1,2,3],[1,2,3],\n",
    "       [1],[1],[1],[1],[1],[1], [1],[1],[1],[1],[1],\n",
    "       [1],[1],[1],[1],[2],[2], [1],[1],[1],[1],[2],[1]]\n",
    "\n",
    "# import numpy as np\n",
    "# test = np.array(turn) -> 왜 안될까\n",
    "# test.size\n",
    "cnt = 0\n",
    "for i in range(len(turn)):\n",
    "    for j in range(len(turn[i])):\n",
    "        cnt+=1\n",
    "\n",
    "print(len(turn), cnt, turn)"
   ]
  },
  {
   "cell_type": "code",
   "execution_count": 5,
   "id": "d92ec64c-5308-4641-bbd2-bd251e21dcdd",
   "metadata": {},
   "outputs": [],
   "source": [
    "tables= []\n",
    "for i, p in enumerate(pages):\n",
    "    # 해당 페이지에 존재하는 모든 테이블 추출\n",
    "    page_tables = pdf.pages[p-1].extract_tables()\n",
    "    #print(type(page_tables)) -> list\n",
    "    for t in turn[i]:\n",
    "        tables.append(pd.DataFrame(page_tables[t-1]))"
   ]
  },
  {
   "cell_type": "code",
   "execution_count": 6,
   "id": "0f89faa4-76fb-41d7-afa4-82557df46982",
   "metadata": {},
   "outputs": [
    {
     "data": {
      "text/plain": [
       "56"
      ]
     },
     "execution_count": 6,
     "metadata": {},
     "output_type": "execute_result"
    }
   ],
   "source": [
    "len(tables)"
   ]
  },
  {
   "cell_type": "markdown",
   "id": "7888ecdb-ed8b-4e2d-9134-e8301184c836",
   "metadata": {},
   "source": [
    "# 데이터프레임 정리"
   ]
  },
  {
   "cell_type": "markdown",
   "id": "265f7d66-60b5-432c-b5f9-59601f7790aa",
   "metadata": {},
   "source": [
    "### 필요한 컬럼만 남기기"
   ]
  },
  {
   "cell_type": "code",
   "execution_count": 9,
   "id": "01b740f0-dc56-4216-b222-1c2cccfe8d71",
   "metadata": {},
   "outputs": [
    {
     "data": {
      "text/plain": [
       "[   0       1       2        3   4      5   6    7       8       9   \\\n",
       " 0  순번  이수\\n구분  개설\\n학년     과목코드  분반   교과목명  학점  교수명  학년\\n제한  전공\\n제한   \n",
       " 1   1      교필       1  AC00007  01  인권과평화   2  조경희       Y       Y   \n",
       " 2   2      교필       1  AC00007  02  인권과평화   2  조경희       Y       Y   \n",
       " 3   3      교필       1  AC00007  03  인권과평화   2  이상윤       Y       Y   \n",
       " 4   4      교필       1  AC00007  04  인권과평화   2  오영숙       Y       Y   \n",
       " 5   5      교필       1  AC00007  05  인권과평화   2  강성현       Y       Y   \n",
       " 6   6      교필       1  AC00007  06  인권과평화   2  강성현       Y       Y   \n",
       " \n",
       "                    10                    11  \n",
       " 0              강의실/시간                  확인사항  \n",
       " 1  7207/화/09:00~10:50        주제 : 식민주의/인종주의  \n",
       " 2  7207/화/11:00~12:50        주제 : 식민주의/인종주의  \n",
       " 3  7208/화/09:00~10:50   주제 : 인공지능과 인간의 \\n공존  \n",
       " 4  7208/화/11:00~12:50            주제 : 빈곤포르노  \n",
       " 5  7309/화/09:00~10:50  주제 : 한국의 전쟁과 인권 \\n평화  \n",
       " 6  7309/화/11:00~12:50  주제 : 한국의 전쟁과 인권 \\n평화  ,\n",
       "    0       1       2        3   4     5   6    7       8       9   \\\n",
       " 0  순번  이수\\n구분  개설\\n학년     과목코드  분반  교과목명  학점  교수명  학년\\n제한  전공\\n제한   \n",
       " 1   1      교필       1  AC00013  01   말과글   2  오현화       Y       Y   \n",
       " 2   2      교필       1  AC00013  02   말과글   2  오현화       Y       Y   \n",
       " 3   3      교필       1  AC00013  03   말과글   2  성아사       Y       Y   \n",
       " 4   4      교필       1  AC00013  04   말과글   2  성아사       Y       Y   \n",
       " 5   5      교필       1  AC00013  05   말과글   2  오현화       Y       Y   \n",
       " 6   6      교필       1  AC00013  06   말과글   2  오현화       Y       Y   \n",
       " 7   7      교필       1  AC00013  07   말과글   2  곽승숙       Y       Y   \n",
       " 8   8      교필       1  AC00013  08   말과글   2  곽승숙       Y       Y   \n",
       " \n",
       "                    10    11  \n",
       " 0              강의실/시간  확인사항  \n",
       " 1  1504/수/09:00~10:50        \n",
       " 2  1504/수/11:00~12:50        \n",
       " 3  1505/수/09:00~10:50        \n",
       " 4  1505/수/11:00~12:50        \n",
       " 5  1504/목/09:00~10:50        \n",
       " 6  1504/목/11:00~12:50        \n",
       " 7  1505/목/09:00~10:50        \n",
       " 8  1505/목/11:00~12:50        ,\n",
       "    0       1       2        3   4          5   6          7       8       9   \\\n",
       " 0  순번  이수\\n구분  개설\\n학년     과목코드  분반       교과목명  학점        교수명  학년\\n제한  전공\\n제한   \n",
       " 1   1      교필       1  AC00016  01  과학기술과에콜로지   2        김병수       Y       Y   \n",
       " 2   2      교필       1  AC00016  02  과학기술과에콜로지   2        김병수       Y       Y   \n",
       " 3   3      교필       1  AC00016  03  과학기술과에콜로지   2  *김명철\\n신익상       Y       Y   \n",
       " 4   4      교필       1  AC00016  04  과학기술과에콜로지   2  *김명철\\n신익상       Y       Y   \n",
       " 5   5      교필       1  AC00016  05  과학기술과에콜로지   2  *신익상\\n김명철       Y       Y   \n",
       " 6   6      교필       1  AC00016  06  과학기술과에콜로지   2  *신익상\\n김명철       Y       Y   \n",
       " \n",
       "                    10    11  \n",
       " 0              강의실/시간  확인사항  \n",
       " 1  7309/금/10:00~11:50        \n",
       " 2  7309/금/13:00~14:50        \n",
       " 3  3402/금/10:00~11:50        \n",
       " 4  3402/금/13:00~14:50        \n",
       " 5  3502/금/10:00~11:50        \n",
       " 6  3502/금/13:00~14:50        ]"
      ]
     },
     "execution_count": 9,
     "metadata": {},
     "output_type": "execute_result"
    }
   ],
   "source": [
    "tables[:3]"
   ]
  },
  {
   "cell_type": "code",
   "execution_count": 13,
   "id": "54712443-c19e-4018-8fc5-58ffbe6d2085",
   "metadata": {},
   "outputs": [
    {
     "ename": "KeyError",
     "evalue": "\"None of [Index(['이수\\\\n구분', '과목코드', '교과목명', '교수명', '강의실/시간', '확인사항'], dtype='object')] are in the [columns]\"",
     "output_type": "error",
     "traceback": [
      "\u001b[1;31m---------------------------------------------------------------------------\u001b[0m",
      "\u001b[1;31mKeyError\u001b[0m                                  Traceback (most recent call last)",
      "Cell \u001b[1;32mIn[13], line 3\u001b[0m\n\u001b[0;32m      1\u001b[0m \u001b[38;5;28;01mfor\u001b[39;00m i, table \u001b[38;5;129;01min\u001b[39;00m \u001b[38;5;28menumerate\u001b[39m(tables):\n\u001b[0;32m      2\u001b[0m     \u001b[38;5;66;03m# tables[i] = table[['이수\\n구분','과목코드','교과목명','교수명','강의실/시간','확인사항']]\u001b[39;00m\n\u001b[1;32m----> 3\u001b[0m     tables[i] \u001b[38;5;241m=\u001b[39m \u001b[43mtable\u001b[49m\u001b[38;5;241;43m.\u001b[39;49m\u001b[43mloc\u001b[49m\u001b[43m[\u001b[49m\u001b[43m:\u001b[49m\u001b[43m,\u001b[49m\u001b[43m \u001b[49m\u001b[43m[\u001b[49m\u001b[38;5;124;43m'\u001b[39;49m\u001b[38;5;124;43m이수\u001b[39;49m\u001b[38;5;130;43;01m\\n\u001b[39;49;00m\u001b[38;5;124;43m구분\u001b[39;49m\u001b[38;5;124;43m'\u001b[39;49m\u001b[43m,\u001b[49m\u001b[38;5;124;43m'\u001b[39;49m\u001b[38;5;124;43m과목코드\u001b[39;49m\u001b[38;5;124;43m'\u001b[39;49m\u001b[43m,\u001b[49m\u001b[38;5;124;43m'\u001b[39;49m\u001b[38;5;124;43m교과목명\u001b[39;49m\u001b[38;5;124;43m'\u001b[39;49m\u001b[43m,\u001b[49m\u001b[38;5;124;43m'\u001b[39;49m\u001b[38;5;124;43m교수명\u001b[39;49m\u001b[38;5;124;43m'\u001b[39;49m\u001b[43m,\u001b[49m\u001b[38;5;124;43m'\u001b[39;49m\u001b[38;5;124;43m강의실/시간\u001b[39;49m\u001b[38;5;124;43m'\u001b[39;49m\u001b[43m,\u001b[49m\u001b[38;5;124;43m'\u001b[39;49m\u001b[38;5;124;43m확인사항\u001b[39;49m\u001b[38;5;124;43m'\u001b[39;49m\u001b[43m]\u001b[49m\u001b[43m]\u001b[49m\n",
      "File \u001b[1;32m~\\.virtualenvs\\venv--BJ6CeaI\\lib\\site-packages\\pandas\\core\\indexing.py:1067\u001b[0m, in \u001b[0;36m_LocationIndexer.__getitem__\u001b[1;34m(self, key)\u001b[0m\n\u001b[0;32m   1065\u001b[0m     \u001b[38;5;28;01mif\u001b[39;00m \u001b[38;5;28mself\u001b[39m\u001b[38;5;241m.\u001b[39m_is_scalar_access(key):\n\u001b[0;32m   1066\u001b[0m         \u001b[38;5;28;01mreturn\u001b[39;00m \u001b[38;5;28mself\u001b[39m\u001b[38;5;241m.\u001b[39mobj\u001b[38;5;241m.\u001b[39m_get_value(\u001b[38;5;241m*\u001b[39mkey, takeable\u001b[38;5;241m=\u001b[39m\u001b[38;5;28mself\u001b[39m\u001b[38;5;241m.\u001b[39m_takeable)\n\u001b[1;32m-> 1067\u001b[0m     \u001b[38;5;28;01mreturn\u001b[39;00m \u001b[38;5;28;43mself\u001b[39;49m\u001b[38;5;241;43m.\u001b[39;49m\u001b[43m_getitem_tuple\u001b[49m\u001b[43m(\u001b[49m\u001b[43mkey\u001b[49m\u001b[43m)\u001b[49m\n\u001b[0;32m   1068\u001b[0m \u001b[38;5;28;01melse\u001b[39;00m:\n\u001b[0;32m   1069\u001b[0m     \u001b[38;5;66;03m# we by definition only have the 0th axis\u001b[39;00m\n\u001b[0;32m   1070\u001b[0m     axis \u001b[38;5;241m=\u001b[39m \u001b[38;5;28mself\u001b[39m\u001b[38;5;241m.\u001b[39maxis \u001b[38;5;129;01mor\u001b[39;00m \u001b[38;5;241m0\u001b[39m\n",
      "File \u001b[1;32m~\\.virtualenvs\\venv--BJ6CeaI\\lib\\site-packages\\pandas\\core\\indexing.py:1256\u001b[0m, in \u001b[0;36m_LocIndexer._getitem_tuple\u001b[1;34m(self, tup)\u001b[0m\n\u001b[0;32m   1253\u001b[0m \u001b[38;5;28;01mif\u001b[39;00m \u001b[38;5;28mself\u001b[39m\u001b[38;5;241m.\u001b[39m_multi_take_opportunity(tup):\n\u001b[0;32m   1254\u001b[0m     \u001b[38;5;28;01mreturn\u001b[39;00m \u001b[38;5;28mself\u001b[39m\u001b[38;5;241m.\u001b[39m_multi_take(tup)\n\u001b[1;32m-> 1256\u001b[0m \u001b[38;5;28;01mreturn\u001b[39;00m \u001b[38;5;28;43mself\u001b[39;49m\u001b[38;5;241;43m.\u001b[39;49m\u001b[43m_getitem_tuple_same_dim\u001b[49m\u001b[43m(\u001b[49m\u001b[43mtup\u001b[49m\u001b[43m)\u001b[49m\n",
      "File \u001b[1;32m~\\.virtualenvs\\venv--BJ6CeaI\\lib\\site-packages\\pandas\\core\\indexing.py:924\u001b[0m, in \u001b[0;36m_LocationIndexer._getitem_tuple_same_dim\u001b[1;34m(self, tup)\u001b[0m\n\u001b[0;32m    921\u001b[0m \u001b[38;5;28;01mif\u001b[39;00m com\u001b[38;5;241m.\u001b[39mis_null_slice(key):\n\u001b[0;32m    922\u001b[0m     \u001b[38;5;28;01mcontinue\u001b[39;00m\n\u001b[1;32m--> 924\u001b[0m retval \u001b[38;5;241m=\u001b[39m \u001b[38;5;28;43mgetattr\u001b[39;49m\u001b[43m(\u001b[49m\u001b[43mretval\u001b[49m\u001b[43m,\u001b[49m\u001b[43m \u001b[49m\u001b[38;5;28;43mself\u001b[39;49m\u001b[38;5;241;43m.\u001b[39;49m\u001b[43mname\u001b[49m\u001b[43m)\u001b[49m\u001b[38;5;241;43m.\u001b[39;49m\u001b[43m_getitem_axis\u001b[49m\u001b[43m(\u001b[49m\u001b[43mkey\u001b[49m\u001b[43m,\u001b[49m\u001b[43m \u001b[49m\u001b[43maxis\u001b[49m\u001b[38;5;241;43m=\u001b[39;49m\u001b[43mi\u001b[49m\u001b[43m)\u001b[49m\n\u001b[0;32m    925\u001b[0m \u001b[38;5;66;03m# We should never have retval.ndim < self.ndim, as that should\u001b[39;00m\n\u001b[0;32m    926\u001b[0m \u001b[38;5;66;03m#  be handled by the _getitem_lowerdim call above.\u001b[39;00m\n\u001b[0;32m    927\u001b[0m \u001b[38;5;28;01massert\u001b[39;00m retval\u001b[38;5;241m.\u001b[39mndim \u001b[38;5;241m==\u001b[39m \u001b[38;5;28mself\u001b[39m\u001b[38;5;241m.\u001b[39mndim\n",
      "File \u001b[1;32m~\\.virtualenvs\\venv--BJ6CeaI\\lib\\site-packages\\pandas\\core\\indexing.py:1301\u001b[0m, in \u001b[0;36m_LocIndexer._getitem_axis\u001b[1;34m(self, key, axis)\u001b[0m\n\u001b[0;32m   1298\u001b[0m     \u001b[38;5;28;01mif\u001b[39;00m \u001b[38;5;28mhasattr\u001b[39m(key, \u001b[38;5;124m\"\u001b[39m\u001b[38;5;124mndim\u001b[39m\u001b[38;5;124m\"\u001b[39m) \u001b[38;5;129;01mand\u001b[39;00m key\u001b[38;5;241m.\u001b[39mndim \u001b[38;5;241m>\u001b[39m \u001b[38;5;241m1\u001b[39m:\n\u001b[0;32m   1299\u001b[0m         \u001b[38;5;28;01mraise\u001b[39;00m \u001b[38;5;167;01mValueError\u001b[39;00m(\u001b[38;5;124m\"\u001b[39m\u001b[38;5;124mCannot index with multidimensional key\u001b[39m\u001b[38;5;124m\"\u001b[39m)\n\u001b[1;32m-> 1301\u001b[0m     \u001b[38;5;28;01mreturn\u001b[39;00m \u001b[38;5;28;43mself\u001b[39;49m\u001b[38;5;241;43m.\u001b[39;49m\u001b[43m_getitem_iterable\u001b[49m\u001b[43m(\u001b[49m\u001b[43mkey\u001b[49m\u001b[43m,\u001b[49m\u001b[43m \u001b[49m\u001b[43maxis\u001b[49m\u001b[38;5;241;43m=\u001b[39;49m\u001b[43maxis\u001b[49m\u001b[43m)\u001b[49m\n\u001b[0;32m   1303\u001b[0m \u001b[38;5;66;03m# nested tuple slicing\u001b[39;00m\n\u001b[0;32m   1304\u001b[0m \u001b[38;5;28;01mif\u001b[39;00m is_nested_tuple(key, labels):\n",
      "File \u001b[1;32m~\\.virtualenvs\\venv--BJ6CeaI\\lib\\site-packages\\pandas\\core\\indexing.py:1239\u001b[0m, in \u001b[0;36m_LocIndexer._getitem_iterable\u001b[1;34m(self, key, axis)\u001b[0m\n\u001b[0;32m   1236\u001b[0m \u001b[38;5;28mself\u001b[39m\u001b[38;5;241m.\u001b[39m_validate_key(key, axis)\n\u001b[0;32m   1238\u001b[0m \u001b[38;5;66;03m# A collection of keys\u001b[39;00m\n\u001b[1;32m-> 1239\u001b[0m keyarr, indexer \u001b[38;5;241m=\u001b[39m \u001b[38;5;28;43mself\u001b[39;49m\u001b[38;5;241;43m.\u001b[39;49m\u001b[43m_get_listlike_indexer\u001b[49m\u001b[43m(\u001b[49m\u001b[43mkey\u001b[49m\u001b[43m,\u001b[49m\u001b[43m \u001b[49m\u001b[43maxis\u001b[49m\u001b[43m)\u001b[49m\n\u001b[0;32m   1240\u001b[0m \u001b[38;5;28;01mreturn\u001b[39;00m \u001b[38;5;28mself\u001b[39m\u001b[38;5;241m.\u001b[39mobj\u001b[38;5;241m.\u001b[39m_reindex_with_indexers(\n\u001b[0;32m   1241\u001b[0m     {axis: [keyarr, indexer]}, copy\u001b[38;5;241m=\u001b[39m\u001b[38;5;28;01mTrue\u001b[39;00m, allow_dups\u001b[38;5;241m=\u001b[39m\u001b[38;5;28;01mTrue\u001b[39;00m\n\u001b[0;32m   1242\u001b[0m )\n",
      "File \u001b[1;32m~\\.virtualenvs\\venv--BJ6CeaI\\lib\\site-packages\\pandas\\core\\indexing.py:1432\u001b[0m, in \u001b[0;36m_LocIndexer._get_listlike_indexer\u001b[1;34m(self, key, axis)\u001b[0m\n\u001b[0;32m   1429\u001b[0m ax \u001b[38;5;241m=\u001b[39m \u001b[38;5;28mself\u001b[39m\u001b[38;5;241m.\u001b[39mobj\u001b[38;5;241m.\u001b[39m_get_axis(axis)\n\u001b[0;32m   1430\u001b[0m axis_name \u001b[38;5;241m=\u001b[39m \u001b[38;5;28mself\u001b[39m\u001b[38;5;241m.\u001b[39mobj\u001b[38;5;241m.\u001b[39m_get_axis_name(axis)\n\u001b[1;32m-> 1432\u001b[0m keyarr, indexer \u001b[38;5;241m=\u001b[39m \u001b[43max\u001b[49m\u001b[38;5;241;43m.\u001b[39;49m\u001b[43m_get_indexer_strict\u001b[49m\u001b[43m(\u001b[49m\u001b[43mkey\u001b[49m\u001b[43m,\u001b[49m\u001b[43m \u001b[49m\u001b[43maxis_name\u001b[49m\u001b[43m)\u001b[49m\n\u001b[0;32m   1434\u001b[0m \u001b[38;5;28;01mreturn\u001b[39;00m keyarr, indexer\n",
      "File \u001b[1;32m~\\.virtualenvs\\venv--BJ6CeaI\\lib\\site-packages\\pandas\\core\\indexes\\base.py:6070\u001b[0m, in \u001b[0;36mIndex._get_indexer_strict\u001b[1;34m(self, key, axis_name)\u001b[0m\n\u001b[0;32m   6067\u001b[0m \u001b[38;5;28;01melse\u001b[39;00m:\n\u001b[0;32m   6068\u001b[0m     keyarr, indexer, new_indexer \u001b[38;5;241m=\u001b[39m \u001b[38;5;28mself\u001b[39m\u001b[38;5;241m.\u001b[39m_reindex_non_unique(keyarr)\n\u001b[1;32m-> 6070\u001b[0m \u001b[38;5;28;43mself\u001b[39;49m\u001b[38;5;241;43m.\u001b[39;49m\u001b[43m_raise_if_missing\u001b[49m\u001b[43m(\u001b[49m\u001b[43mkeyarr\u001b[49m\u001b[43m,\u001b[49m\u001b[43m \u001b[49m\u001b[43mindexer\u001b[49m\u001b[43m,\u001b[49m\u001b[43m \u001b[49m\u001b[43maxis_name\u001b[49m\u001b[43m)\u001b[49m\n\u001b[0;32m   6072\u001b[0m keyarr \u001b[38;5;241m=\u001b[39m \u001b[38;5;28mself\u001b[39m\u001b[38;5;241m.\u001b[39mtake(indexer)\n\u001b[0;32m   6073\u001b[0m \u001b[38;5;28;01mif\u001b[39;00m \u001b[38;5;28misinstance\u001b[39m(key, Index):\n\u001b[0;32m   6074\u001b[0m     \u001b[38;5;66;03m# GH 42790 - Preserve name from an Index\u001b[39;00m\n",
      "File \u001b[1;32m~\\.virtualenvs\\venv--BJ6CeaI\\lib\\site-packages\\pandas\\core\\indexes\\base.py:6130\u001b[0m, in \u001b[0;36mIndex._raise_if_missing\u001b[1;34m(self, key, indexer, axis_name)\u001b[0m\n\u001b[0;32m   6128\u001b[0m     \u001b[38;5;28;01mif\u001b[39;00m use_interval_msg:\n\u001b[0;32m   6129\u001b[0m         key \u001b[38;5;241m=\u001b[39m \u001b[38;5;28mlist\u001b[39m(key)\n\u001b[1;32m-> 6130\u001b[0m     \u001b[38;5;28;01mraise\u001b[39;00m \u001b[38;5;167;01mKeyError\u001b[39;00m(\u001b[38;5;124mf\u001b[39m\u001b[38;5;124m\"\u001b[39m\u001b[38;5;124mNone of [\u001b[39m\u001b[38;5;132;01m{\u001b[39;00mkey\u001b[38;5;132;01m}\u001b[39;00m\u001b[38;5;124m] are in the [\u001b[39m\u001b[38;5;132;01m{\u001b[39;00maxis_name\u001b[38;5;132;01m}\u001b[39;00m\u001b[38;5;124m]\u001b[39m\u001b[38;5;124m\"\u001b[39m)\n\u001b[0;32m   6132\u001b[0m not_found \u001b[38;5;241m=\u001b[39m \u001b[38;5;28mlist\u001b[39m(ensure_index(key)[missing_mask\u001b[38;5;241m.\u001b[39mnonzero()[\u001b[38;5;241m0\u001b[39m]]\u001b[38;5;241m.\u001b[39munique())\n\u001b[0;32m   6133\u001b[0m \u001b[38;5;28;01mraise\u001b[39;00m \u001b[38;5;167;01mKeyError\u001b[39;00m(\u001b[38;5;124mf\u001b[39m\u001b[38;5;124m\"\u001b[39m\u001b[38;5;132;01m{\u001b[39;00mnot_found\u001b[38;5;132;01m}\u001b[39;00m\u001b[38;5;124m not in index\u001b[39m\u001b[38;5;124m\"\u001b[39m)\n",
      "\u001b[1;31mKeyError\u001b[0m: \"None of [Index(['이수\\\\n구분', '과목코드', '교과목명', '교수명', '강의실/시간', '확인사항'], dtype='object')] are in the [columns]\""
     ]
    }
   ],
   "source": [
    "for i, table in enumerate(tables):\n",
    "    # tables[i] = table[['이수\\n구분','과목코드','교과목명','교수명','강의실/시간','확인사항']]\n",
    "    tables[i] = table.loc[:, ['이수\\n구분','과목코드','교과목명','교수명','강의실/시간','확인사항']]"
   ]
  },
  {
   "cell_type": "code",
   "execution_count": null,
   "id": "d2cb28e0-6bc0-40ca-a1fb-ce5b20fff3d1",
   "metadata": {},
   "outputs": [],
   "source": [
    "tables[:5]"
   ]
  },
  {
   "cell_type": "markdown",
   "id": "6473d276-e702-4f5e-9c11-02cb8656dafb",
   "metadata": {},
   "source": [
    "### column 헤더 추출"
   ]
  },
  {
   "cell_type": "code",
   "execution_count": null,
   "id": "80c5562f-f984-4b02-9a9f-af295e4b77d6",
   "metadata": {},
   "outputs": [],
   "source": [
    "# \n",
    "header = ['kind','code','classname','prof','roomntime','check']\n",
    "header"
   ]
  },
  {
   "cell_type": "markdown",
   "id": "40ea18f1-c3c5-499b-ab39-9e163cbf4c49",
   "metadata": {},
   "source": [
    "### tables 첫 행 삭제 "
   ]
  },
  {
   "cell_type": "code",
   "execution_count": null,
   "id": "850d2c42-59bb-4ff0-9e49-944eea0ed9a5",
   "metadata": {},
   "outputs": [],
   "source": [
    "# \n",
    "tablecopy = tables.copy()\n",
    "for i, t in enumerate(tables):\n",
    "    tablecopy[i] = t.iloc[1:, :]"
   ]
  },
  {
   "cell_type": "code",
   "execution_count": null,
   "id": "d2c17fa2-dce9-4469-b9de-0297a391360e",
   "metadata": {},
   "outputs": [],
   "source": [
    "# tables[0:5]"
   ]
  },
  {
   "cell_type": "markdown",
   "id": "47f8eec5-eb8a-43e8-8d4e-8aa6e11ac6e4",
   "metadata": {},
   "source": [
    "### 테이블 하나로 합치기"
   ]
  },
  {
   "cell_type": "code",
   "execution_count": null,
   "id": "d1444a9d-3287-4103-808d-90e777904a94",
   "metadata": {},
   "outputs": [],
   "source": [
    "# \n",
    "df = tablecopy[0]\n",
    "for t in tablecopy[1:]:\n",
    "    df = pd.concat([df, t], axis=0)\n",
    "df[:5]"
   ]
  },
  {
   "cell_type": "markdown",
   "id": "8e902e88-a87c-46fd-8dd7-fe7fd9f3951b",
   "metadata": {},
   "source": [
    "### 헤더 설정\n",
    "순번, 이수\\n구분, 개설\\n학년, 과목코드, 분반, 교과목명, 학점, 교수명, 학년\\n제한, 전공\\n제한, 강의실/시간, 확인사항"
   ]
  },
  {
   "cell_type": "code",
   "execution_count": null,
   "id": "3fb6cee0-9085-4a59-ab6c-57ec3f773492",
   "metadata": {},
   "outputs": [],
   "source": [
    "df.columns = header"
   ]
  },
  {
   "cell_type": "markdown",
   "id": "19915567-e74c-44a8-a31a-3fd6513dea85",
   "metadata": {},
   "source": [
    "### 확인사항 반영(인평, 대생세)"
   ]
  },
  {
   "cell_type": "code",
   "execution_count": null,
   "id": "1762bdd6-31f7-4083-aefe-c398b436afbd",
   "metadata": {},
   "outputs": [],
   "source": [
    "# 인덱스 초기화\n",
    "df.reset_index(inplace=True) "
   ]
  },
  {
   "cell_type": "code",
   "execution_count": null,
   "id": "0bef5efd-4ab8-4432-9ac3-2220e2be0c3d",
   "metadata": {},
   "outputs": [],
   "source": [
    "df1 = df.copy()\n",
    "subjects = ['인권과평화', '대학생활세미나 I']\n",
    "\n",
    "for index, row in df1.iterrows():\n",
    "    if (row.classname in subjects):\n",
    "        df1.loc[index, 'classname'] = row.classname + '(' + row.check + ')'"
   ]
  },
  {
   "cell_type": "code",
   "execution_count": null,
   "id": "46fb5a2a-078e-4d4c-8ab8-be908f9a1ad0",
   "metadata": {},
   "outputs": [],
   "source": [
    "df1.tail()"
   ]
  },
  {
   "cell_type": "code",
   "execution_count": null,
   "id": "f999fa6a-23a3-4bf8-b27d-5c64afe15561",
   "metadata": {},
   "outputs": [],
   "source": [
    "df = df1.copy()"
   ]
  },
  {
   "cell_type": "markdown",
   "id": "99a79698-325c-42d3-8eed-f7cfbde1e3bd",
   "metadata": {},
   "source": [
    "### 필요한 컬럼만 추출\n",
    "index, kind, code, classname, prof, roomntime"
   ]
  },
  {
   "cell_type": "code",
   "execution_count": null,
   "id": "51f26477-b2c9-4744-a1e9-6dc3863225d4",
   "metadata": {},
   "outputs": [],
   "source": [
    "# df = df[['kind','code','classname','prof','roomntime']]\n",
    "# df"
   ]
  },
  {
   "cell_type": "markdown",
   "id": "1736612d-5d39-4750-a24c-5dad68a4c812",
   "metadata": {},
   "source": [
    "### roomntime 컬럼 분리"
   ]
  },
  {
   "cell_type": "code",
   "execution_count": null,
   "id": "fa7ccbb3-3142-46d9-ba0b-07ec32e6865a",
   "metadata": {},
   "outputs": [],
   "source": []
  }
 ],
 "metadata": {
  "kernelspec": {
   "display_name": "venv",
   "language": "python",
   "name": "venv"
  },
  "language_info": {
   "codemirror_mode": {
    "name": "ipython",
    "version": 3
   },
   "file_extension": ".py",
   "mimetype": "text/x-python",
   "name": "python",
   "nbconvert_exporter": "python",
   "pygments_lexer": "ipython3",
   "version": "3.9.7"
  }
 },
 "nbformat": 4,
 "nbformat_minor": 5
}
