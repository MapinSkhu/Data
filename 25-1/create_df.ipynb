{
 "cells": [
  {
   "cell_type": "code",
   "execution_count": 1,
   "id": "1507cd15-d791-4303-8211-bc13d82083e4",
   "metadata": {},
   "outputs": [],
   "source": [
    "import pdfplumber as pp\n",
    "import pandas as pd"
   ]
  },
  {
   "cell_type": "code",
   "execution_count": 2,
   "id": "f2db7dd5-006b-4389-a766-69d923234a57",
   "metadata": {},
   "outputs": [],
   "source": [
    "pdf = pp.open(\"pdf0116.pdf\")"
   ]
  },
  {
   "cell_type": "markdown",
   "id": "cc128503-5eec-413b-947c-baa4e2189cf4",
   "metadata": {},
   "source": [
    "# pdf의 필요한 테이블을 데이터프레임으로 저장"
   ]
  },
  {
   "cell_type": "code",
   "execution_count": 3,
   "id": "9f2973fc-7752-4374-b909-357935a03e39",
   "metadata": {},
   "outputs": [],
   "source": []
  },
  {
   "cell_type": "code",
   "execution_count": 4,
   "id": "0c260ec8-6187-4da4-9923-3444d318a732",
   "metadata": {},
   "outputs": [
    {
     "name": "stdout",
     "output_type": "stream",
     "text": [
      "37 [19, 20, 21, 22, 23, 24, 25, 26, 27, 28, 29, 30, 31, 32, 36, 40, 44, 48, 54, 55, 60, 64, 69, 74, 79, 80, 86, 87, 91, 94, 97, 101, 106, 110, 114, 120, 121]\n"
     ]
    }
   ],
   "source": [
    "pages = [i for i in range(19,32+1)]\n",
    "pages = pages + [36, 40, 44, 48, 54, 55, 60,\n",
    "                64, 69, 74, 79, 80, 86, 87, \n",
    "                91, 94, 97, 101, 106, 110, 114,\n",
    "                120, 121]\n",
    "print(len(pages), pages)"
   ]
  },
  {
   "cell_type": "code",
   "execution_count": 36,
   "id": "e06409f9-2c4a-4d24-8223-355e4704367f",
   "metadata": {},
   "outputs": [
    {
     "name": "stdout",
     "output_type": "stream",
     "text": [
      "37 56 [[1, 2], [1, 2], [1], [1, 2, 3], [1, 2], [1, 2, 3], [1, 2], [1, 2], [1, 2], [1, 2, 3, 4], [1, 2], [1, 2], [1, 2, 3], [1, 2, 3], [1], [1], [1], [1], [1], [1], [1], [1], [1], [1], [1], [1], [1], [1], [1], [2], [2], [1], [1], [1], [1], [2], [1]]\n"
     ]
    }
   ],
   "source": [
    "turn = [[1,2], [1,2], [1], [1,2,3], [1,2], [1,2,3],[1,2],\n",
    "       [1,2],[1,2],[1,2,3,4],[1,2],[1,2],[1,2,3],[1,2,3],\n",
    "       [1],[1],[1],[1],[1],[1], [1],[1],[1],[1],[1],\n",
    "       [1],[1],[1],[1],[2],[2], [1],[1],[1],[1],[2],[1]]\n",
    "\n",
    "# import numpy as np\n",
    "# test = np.array(turn) -> 왜 안될까\n",
    "# test.size\n",
    "cnt = 0\n",
    "for i in range(len(turn)):\n",
    "    for j in range(len(turn[i])):\n",
    "        cnt+=1\n",
    "\n",
    "print(len(turn), cnt, turn)"
   ]
  },
  {
   "cell_type": "code",
   "execution_count": 29,
   "id": "d92ec64c-5308-4641-bbd2-bd251e21dcdd",
   "metadata": {},
   "outputs": [],
   "source": [
    "tables= []\n",
    "for i, p in enumerate(pages):\n",
    "    # 해당 페이지에 존재하는 모든 테이블 추출\n",
    "    page_tables = pdf.pages[p-1].extract_tables()\n",
    "    #print(type(page_tables)) -> list\n",
    "    for t in turn[i]:\n",
    "        tables.append(pd.DataFrame(page_tables[t-1]))"
   ]
  },
  {
   "cell_type": "code",
   "execution_count": 30,
   "id": "0f89faa4-76fb-41d7-afa4-82557df46982",
   "metadata": {},
   "outputs": [
    {
     "data": {
      "text/plain": [
       "56"
      ]
     },
     "execution_count": 30,
     "metadata": {},
     "output_type": "execute_result"
    }
   ],
   "source": [
    "len(tables)"
   ]
  },
  {
   "cell_type": "code",
   "execution_count": null,
   "id": "36e209a8-edba-4772-ac8b-a3551a4a996b",
   "metadata": {},
   "outputs": [],
   "source": []
  }
 ],
 "metadata": {
  "kernelspec": {
   "display_name": "venv",
   "language": "python",
   "name": "venv"
  },
  "language_info": {
   "codemirror_mode": {
    "name": "ipython",
    "version": 3
   },
   "file_extension": ".py",
   "mimetype": "text/x-python",
   "name": "python",
   "nbconvert_exporter": "python",
   "pygments_lexer": "ipython3",
   "version": "3.9.7"
  }
 },
 "nbformat": 4,
 "nbformat_minor": 5
}
