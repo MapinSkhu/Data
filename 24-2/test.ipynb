{
 "cells": [
  {
   "cell_type": "markdown",
   "id": "44c7154b-53e0-4bb1-b333-b5c67c07889f",
   "metadata": {},
   "source": [
    "# enumerate 테스트"
   ]
  },
  {
   "cell_type": "code",
   "execution_count": 6,
   "id": "f6a75a5f-ff0b-490b-9a6e-c4a28a719581",
   "metadata": {},
   "outputs": [],
   "source": [
    "list1 = ['this','is','test']\n"
   ]
  },
  {
   "cell_type": "code",
   "execution_count": 2,
   "id": "ea75ca3d-d709-48a2-8577-185af0928de3",
   "metadata": {},
   "outputs": [
    {
     "name": "stdout",
     "output_type": "stream",
     "text": [
      "before:  0 this\n",
      "after:  0 change0\n",
      "before:  1 is\n",
      "after:  1 change1\n",
      "before:  2 test\n",
      "after:  2 change2\n"
     ]
    }
   ],
   "source": [
    "for index, val in enumerate(list1):\n",
    "    print('before: ', index, val)\n",
    "    val = 'change'+str(index)\n",
    "    print('after: ', index, val)"
   ]
  },
  {
   "cell_type": "code",
   "execution_count": 3,
   "id": "32a46a57-8f16-439c-92a2-43c5099bc95a",
   "metadata": {},
   "outputs": [
    {
     "name": "stdout",
     "output_type": "stream",
     "text": [
      "['this', 'is', 'test']\n"
     ]
    }
   ],
   "source": [
    "print(list1)"
   ]
  },
  {
   "cell_type": "code",
   "execution_count": 7,
   "id": "521ec676-4565-4386-8c1e-155d7d1df508",
   "metadata": {},
   "outputs": [],
   "source": [
    "list1 = ['this','is','test']\n"
   ]
  },
  {
   "cell_type": "code",
   "execution_count": 8,
   "id": "409012cb-4b69-444b-b513-b2227d548ac8",
   "metadata": {},
   "outputs": [
    {
     "name": "stdout",
     "output_type": "stream",
     "text": [
      "before:  0 this\n",
      "after:  0 this\n",
      "after2:  change0\n",
      "before:  1 is\n",
      "after:  1 is\n",
      "after2:  change1\n",
      "before:  2 test\n",
      "after:  2 test\n",
      "after2:  change2\n"
     ]
    }
   ],
   "source": [
    "for index, val in enumerate(list1):\n",
    "    print('before: ', index, val)\n",
    "    ch = 'change'+str(index)\n",
    "    list1[index] = ch\n",
    "    print('after: ', index, val)\n",
    "    print('after2: ', list1[index])"
   ]
  },
  {
   "cell_type": "code",
   "execution_count": 9,
   "id": "67123004-9a90-4820-a992-7a430e661a7a",
   "metadata": {},
   "outputs": [
    {
     "name": "stdout",
     "output_type": "stream",
     "text": [
      "['change0', 'change1', 'change2']\n"
     ]
    }
   ],
   "source": [
    "print(list1)"
   ]
  },
  {
   "cell_type": "code",
   "execution_count": null,
   "id": "393ccf5c-bc68-49fc-84cb-294469c5a151",
   "metadata": {},
   "outputs": [],
   "source": []
  },
  {
   "cell_type": "markdown",
   "id": "45ecff47-de4f-44cb-a07c-ca74d29b2b8d",
   "metadata": {},
   "source": [
    "# 리스트 합치기"
   ]
  },
  {
   "cell_type": "code",
   "execution_count": 2,
   "id": "699e30cf-6d52-4c77-b63f-28b857691d69",
   "metadata": {},
   "outputs": [
    {
     "name": "stdout",
     "output_type": "stream",
     "text": [
      "['뭐', '야', '렣', 'ㅎ', '로', '안', '녕']\n"
     ]
    }
   ],
   "source": [
    "list2 = ['뭐야', '렣ㅎ로', '안녕']\n",
    "s = []\n",
    "for i in list2:\n",
    "    s += i\n",
    "    \n",
    "print(s)"
   ]
  },
  {
   "cell_type": "code",
   "execution_count": null,
   "id": "3e9327a4-0f81-44f4-8ff7-67766637ab07",
   "metadata": {},
   "outputs": [],
   "source": []
  }
 ],
 "metadata": {
  "kernelspec": {
   "display_name": "venv",
   "language": "python",
   "name": "venv"
  },
  "language_info": {
   "codemirror_mode": {
    "name": "ipython",
    "version": 3
   },
   "file_extension": ".py",
   "mimetype": "text/x-python",
   "name": "python",
   "nbconvert_exporter": "python",
   "pygments_lexer": "ipython3",
   "version": "3.9.7"
  }
 },
 "nbformat": 4,
 "nbformat_minor": 5
}
