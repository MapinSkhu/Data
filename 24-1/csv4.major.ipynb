{
 "cells": [
  {
   "cell_type": "markdown",
   "id": "92dc5565-85eb-4d05-9e89-12d588c13c26",
   "metadata": {},
   "source": [
    "# 전탐 ~ 전공 정리 "
   ]
  },
  {
   "cell_type": "code",
   "execution_count": 1,
   "id": "952ab357-8413-4490-bf12-6b5f84855962",
   "metadata": {},
   "outputs": [],
   "source": [
    "import pdfplumber as pp\n",
    "import pandas as pd"
   ]
  },
  {
   "cell_type": "code",
   "execution_count": 2,
   "id": "0c0eb9ee-962b-4f84-b685-9a4207926c63",
   "metadata": {},
   "outputs": [
    {
     "data": {
      "text/plain": [
       "<pdfplumber.pdf.PDF at 0x1cd94103190>"
      ]
     },
     "execution_count": 2,
     "metadata": {},
     "output_type": "execute_result"
    }
   ],
   "source": [
    "pdf = pp.open('24-1(0129).pdf')\n",
    "pdf"
   ]
  },
  {
   "cell_type": "code",
   "execution_count": 3,
   "id": "dc6b9902-9c49-40a8-8af7-e6dcbfb84e01",
   "metadata": {},
   "outputs": [],
   "source": [
    "frame_list = []"
   ]
  },
  {
   "cell_type": "code",
   "execution_count": 4,
   "id": "2da38336-04c0-4265-89a8-f2470e9b78bf",
   "metadata": {},
   "outputs": [],
   "source": [
    "for page in range(12, 33): #사봉 제외한 나머지 교양 중 열변수가 같은 애들끼리 모으기\n",
    "    tables = pdf.pages[page].extract_tables()\n",
    "    table_len = len(tables)\n",
    "    \n",
    "    for table_n in range(table_len):\n",
    "        table = tables\n",
    "        data_frame = pd.DataFrame(table[table_n])\n",
    "        frame_list.append(data_frame) #테이블 하나씩 frame에 담기"
   ]
  },
  {
   "cell_type": "code",
   "execution_count": 5,
   "id": "11e3a0f5-5fd4-4c3f-a06c-7c88f7fc7e0c",
   "metadata": {},
   "outputs": [
    {
     "data": {
      "text/plain": [
       "23"
      ]
     },
     "execution_count": 5,
     "metadata": {},
     "output_type": "execute_result"
    }
   ],
   "source": [
    "len(frame_list)"
   ]
  },
  {
   "cell_type": "code",
   "execution_count": 6,
   "id": "262bd404-e8fe-42ed-9ae3-7c7ec5740228",
   "metadata": {},
   "outputs": [
    {
     "data": {
      "text/plain": [
       "22"
      ]
     },
     "execution_count": 6,
     "metadata": {},
     "output_type": "execute_result"
    }
   ],
   "source": [
    "#첫테이블은 사봉이라서 제거\n",
    "frame_list = frame_list[1:len(frame_list)]\n",
    "len(frame_list)"
   ]
  },
  {
   "cell_type": "code",
   "execution_count": 7,
   "id": "4c6944f0-bdc9-4aa9-9b59-890d342ecaf4",
   "metadata": {},
   "outputs": [],
   "source": [
    "# 열변수 지정 & 필요없는 열변수 제거\n",
    "for n in range(len(frame_list)):\n",
    "    frame = frame_list[n].rename(columns=frame_list[n].iloc[0]) #첫행을 컬럼(변수)로 지정\n",
    "    frame = frame.iloc[2:] #3번째 행부터 데이터(값)으로 지정\n",
    "    frame_list[n] = frame[['이수\\n구분', '과목코드', '교과목명', '교수명', '강의실/시간']]"
   ]
  },
  {
   "cell_type": "code",
   "execution_count": 8,
   "id": "550a19e8-a166-4909-8c5c-cb2cebc47c6f",
   "metadata": {},
   "outputs": [
    {
     "data": {
      "text/html": [
       "<div>\n",
       "<style scoped>\n",
       "    .dataframe tbody tr th:only-of-type {\n",
       "        vertical-align: middle;\n",
       "    }\n",
       "\n",
       "    .dataframe tbody tr th {\n",
       "        vertical-align: top;\n",
       "    }\n",
       "\n",
       "    .dataframe thead th {\n",
       "        text-align: right;\n",
       "    }\n",
       "</style>\n",
       "<table border=\"1\" class=\"dataframe\">\n",
       "  <thead>\n",
       "    <tr style=\"text-align: right;\">\n",
       "      <th></th>\n",
       "      <th>이수\\n구분</th>\n",
       "      <th>과목코드</th>\n",
       "      <th>교과목명</th>\n",
       "      <th>교수명</th>\n",
       "      <th>강의실/시간</th>\n",
       "    </tr>\n",
       "  </thead>\n",
       "  <tbody>\n",
       "    <tr>\n",
       "      <th>2</th>\n",
       "      <td>전탐</td>\n",
       "      <td>VS00013</td>\n",
       "      <td>사회복지학개론</td>\n",
       "      <td>조남경</td>\n",
       "      <td>7309 / 화요일 / 15:00~16:15\\n7309 / 목요일 / 15:00~1...</td>\n",
       "    </tr>\n",
       "    <tr>\n",
       "      <th>3</th>\n",
       "      <td>전탐</td>\n",
       "      <td>VS00016</td>\n",
       "      <td>우리 사는 경제 어디서 왔을까 1: \\n시장경제의 기원과 변모</td>\n",
       "      <td>이상철</td>\n",
       "      <td>3402 / 화요일 / 13:30~14:45\\n3402 / 목요일 / 13:30~1...</td>\n",
       "    </tr>\n",
       "    <tr>\n",
       "      <th>4</th>\n",
       "      <td>전탐</td>\n",
       "      <td>VS00019</td>\n",
       "      <td>전공탐색세미나(사회학)</td>\n",
       "      <td>박경태</td>\n",
       "      <td>7205 / 금요일 / 12:00~12:50</td>\n",
       "    </tr>\n",
       "    <tr>\n",
       "      <th>5</th>\n",
       "      <td>전탐</td>\n",
       "      <td>VS00020</td>\n",
       "      <td>전공탐색세미나(경제학)</td>\n",
       "      <td>유철규</td>\n",
       "      <td>7305 / 월요일 / 11:00~11:50</td>\n",
       "    </tr>\n",
       "    <tr>\n",
       "      <th>6</th>\n",
       "      <td>전탐</td>\n",
       "      <td>VS00021</td>\n",
       "      <td>전공탐색세미나(정치학)</td>\n",
       "      <td>박은홍</td>\n",
       "      <td>7305 / 수요일 / 18:25~19:15</td>\n",
       "    </tr>\n",
       "    <tr>\n",
       "      <th>...</th>\n",
       "      <td>...</td>\n",
       "      <td>...</td>\n",
       "      <td>...</td>\n",
       "      <td>...</td>\n",
       "      <td>...</td>\n",
       "    </tr>\n",
       "    <tr>\n",
       "      <th>4</th>\n",
       "      <td>전선</td>\n",
       "      <td>XE00006</td>\n",
       "      <td>딥러닝프레임워크</td>\n",
       "      <td>미지정</td>\n",
       "      <td>6405 / 목요일 / 09:00~11:50</td>\n",
       "    </tr>\n",
       "    <tr>\n",
       "      <th>5</th>\n",
       "      <td>전선</td>\n",
       "      <td>XE00007</td>\n",
       "      <td>확률과랜덤변수</td>\n",
       "      <td>이상윤</td>\n",
       "      <td>6405 / 화요일 / 13:30~14:45\\n6405 / 목요일 / 13:30~1...</td>\n",
       "    </tr>\n",
       "    <tr>\n",
       "      <th>6</th>\n",
       "      <td>전선</td>\n",
       "      <td>XE00013</td>\n",
       "      <td>Python프로그래밍</td>\n",
       "      <td>홍성준</td>\n",
       "      <td>B105 / 월요일 / 15:00~16:15\\nB105 / 수요일 / 15:00~1...</td>\n",
       "    </tr>\n",
       "    <tr>\n",
       "      <th>7</th>\n",
       "      <td>전선</td>\n",
       "      <td>XE00014</td>\n",
       "      <td>인공지능캡스톤디자인</td>\n",
       "      <td>이상윤</td>\n",
       "      <td>6405 / 금요일 / 12:00~14:50</td>\n",
       "    </tr>\n",
       "    <tr>\n",
       "      <th>8</th>\n",
       "      <td>전선</td>\n",
       "      <td>XE00015</td>\n",
       "      <td>컴퓨터비전</td>\n",
       "      <td>미지정</td>\n",
       "      <td>6405 / 화요일 / 15:00~16:15\\n6405 / 목요일 / 15:00~1...</td>\n",
       "    </tr>\n",
       "  </tbody>\n",
       "</table>\n",
       "<p>198 rows × 5 columns</p>\n",
       "</div>"
      ],
      "text/plain": [
       "   이수\\n구분     과목코드                                교과목명  교수명  \\\n",
       "2      전탐  VS00013                             사회복지학개론  조남경   \n",
       "3      전탐  VS00016  우리 사는 경제 어디서 왔을까 1: \\n시장경제의 기원과 변모  이상철   \n",
       "4      전탐  VS00019                        전공탐색세미나(사회학)  박경태   \n",
       "5      전탐  VS00020                        전공탐색세미나(경제학)  유철규   \n",
       "6      전탐  VS00021                        전공탐색세미나(정치학)  박은홍   \n",
       "..    ...      ...                                 ...  ...   \n",
       "4      전선  XE00006                            딥러닝프레임워크  미지정   \n",
       "5      전선  XE00007                             확률과랜덤변수  이상윤   \n",
       "6      전선  XE00013                         Python프로그래밍  홍성준   \n",
       "7      전선  XE00014                          인공지능캡스톤디자인  이상윤   \n",
       "8      전선  XE00015                               컴퓨터비전  미지정   \n",
       "\n",
       "                                               강의실/시간  \n",
       "2   7309 / 화요일 / 15:00~16:15\\n7309 / 목요일 / 15:00~1...  \n",
       "3   3402 / 화요일 / 13:30~14:45\\n3402 / 목요일 / 13:30~1...  \n",
       "4                            7205 / 금요일 / 12:00~12:50  \n",
       "5                            7305 / 월요일 / 11:00~11:50  \n",
       "6                            7305 / 수요일 / 18:25~19:15  \n",
       "..                                                ...  \n",
       "4                            6405 / 목요일 / 09:00~11:50  \n",
       "5   6405 / 화요일 / 13:30~14:45\\n6405 / 목요일 / 13:30~1...  \n",
       "6   B105 / 월요일 / 15:00~16:15\\nB105 / 수요일 / 15:00~1...  \n",
       "7                            6405 / 금요일 / 12:00~14:50  \n",
       "8   6405 / 화요일 / 15:00~16:15\\n6405 / 목요일 / 15:00~1...  \n",
       "\n",
       "[198 rows x 5 columns]"
      ]
     },
     "execution_count": 8,
     "metadata": {},
     "output_type": "execute_result"
    }
   ],
   "source": [
    "# 모든 테이블하나로 합치기\n",
    "df = pd.concat(frame_list)\n",
    "df"
   ]
  },
  {
   "cell_type": "code",
   "execution_count": 9,
   "id": "cce0d63c-cc93-42d0-bbad-d27f2543830f",
   "metadata": {},
   "outputs": [
    {
     "data": {
      "text/html": [
       "<div>\n",
       "<style scoped>\n",
       "    .dataframe tbody tr th:only-of-type {\n",
       "        vertical-align: middle;\n",
       "    }\n",
       "\n",
       "    .dataframe tbody tr th {\n",
       "        vertical-align: top;\n",
       "    }\n",
       "\n",
       "    .dataframe thead th {\n",
       "        text-align: right;\n",
       "    }\n",
       "</style>\n",
       "<table border=\"1\" class=\"dataframe\">\n",
       "  <thead>\n",
       "    <tr style=\"text-align: right;\">\n",
       "      <th></th>\n",
       "      <th>이수\\n구분</th>\n",
       "      <th>과목코드</th>\n",
       "      <th>교과목명</th>\n",
       "      <th>교수명</th>\n",
       "      <th>강의실/시간</th>\n",
       "    </tr>\n",
       "  </thead>\n",
       "  <tbody>\n",
       "    <tr>\n",
       "      <th>0</th>\n",
       "      <td>전탐</td>\n",
       "      <td>VS00013</td>\n",
       "      <td>사회복지학개론</td>\n",
       "      <td>조남경</td>\n",
       "      <td>7309 / 화요일 / 15:00~16:15\\n7309 / 목요일 / 15:00~1...</td>\n",
       "    </tr>\n",
       "    <tr>\n",
       "      <th>1</th>\n",
       "      <td>전탐</td>\n",
       "      <td>VS00016</td>\n",
       "      <td>우리 사는 경제 어디서 왔을까 1: \\n시장경제의 기원과 변모</td>\n",
       "      <td>이상철</td>\n",
       "      <td>3402 / 화요일 / 13:30~14:45\\n3402 / 목요일 / 13:30~1...</td>\n",
       "    </tr>\n",
       "    <tr>\n",
       "      <th>2</th>\n",
       "      <td>전탐</td>\n",
       "      <td>VS00019</td>\n",
       "      <td>전공탐색세미나(사회학)</td>\n",
       "      <td>박경태</td>\n",
       "      <td>7205 / 금요일 / 12:00~12:50</td>\n",
       "    </tr>\n",
       "    <tr>\n",
       "      <th>3</th>\n",
       "      <td>전탐</td>\n",
       "      <td>VS00020</td>\n",
       "      <td>전공탐색세미나(경제학)</td>\n",
       "      <td>유철규</td>\n",
       "      <td>7305 / 월요일 / 11:00~11:50</td>\n",
       "    </tr>\n",
       "    <tr>\n",
       "      <th>4</th>\n",
       "      <td>전탐</td>\n",
       "      <td>VS00021</td>\n",
       "      <td>전공탐색세미나(정치학)</td>\n",
       "      <td>박은홍</td>\n",
       "      <td>7305 / 수요일 / 18:25~19:15</td>\n",
       "    </tr>\n",
       "    <tr>\n",
       "      <th>...</th>\n",
       "      <td>...</td>\n",
       "      <td>...</td>\n",
       "      <td>...</td>\n",
       "      <td>...</td>\n",
       "      <td>...</td>\n",
       "    </tr>\n",
       "    <tr>\n",
       "      <th>193</th>\n",
       "      <td>전선</td>\n",
       "      <td>XE00006</td>\n",
       "      <td>딥러닝프레임워크</td>\n",
       "      <td>미지정</td>\n",
       "      <td>6405 / 목요일 / 09:00~11:50</td>\n",
       "    </tr>\n",
       "    <tr>\n",
       "      <th>194</th>\n",
       "      <td>전선</td>\n",
       "      <td>XE00007</td>\n",
       "      <td>확률과랜덤변수</td>\n",
       "      <td>이상윤</td>\n",
       "      <td>6405 / 화요일 / 13:30~14:45\\n6405 / 목요일 / 13:30~1...</td>\n",
       "    </tr>\n",
       "    <tr>\n",
       "      <th>195</th>\n",
       "      <td>전선</td>\n",
       "      <td>XE00013</td>\n",
       "      <td>Python프로그래밍</td>\n",
       "      <td>홍성준</td>\n",
       "      <td>B105 / 월요일 / 15:00~16:15\\nB105 / 수요일 / 15:00~1...</td>\n",
       "    </tr>\n",
       "    <tr>\n",
       "      <th>196</th>\n",
       "      <td>전선</td>\n",
       "      <td>XE00014</td>\n",
       "      <td>인공지능캡스톤디자인</td>\n",
       "      <td>이상윤</td>\n",
       "      <td>6405 / 금요일 / 12:00~14:50</td>\n",
       "    </tr>\n",
       "    <tr>\n",
       "      <th>197</th>\n",
       "      <td>전선</td>\n",
       "      <td>XE00015</td>\n",
       "      <td>컴퓨터비전</td>\n",
       "      <td>미지정</td>\n",
       "      <td>6405 / 화요일 / 15:00~16:15\\n6405 / 목요일 / 15:00~1...</td>\n",
       "    </tr>\n",
       "  </tbody>\n",
       "</table>\n",
       "<p>198 rows × 5 columns</p>\n",
       "</div>"
      ],
      "text/plain": [
       "    이수\\n구분     과목코드                                교과목명  교수명  \\\n",
       "0       전탐  VS00013                             사회복지학개론  조남경   \n",
       "1       전탐  VS00016  우리 사는 경제 어디서 왔을까 1: \\n시장경제의 기원과 변모  이상철   \n",
       "2       전탐  VS00019                        전공탐색세미나(사회학)  박경태   \n",
       "3       전탐  VS00020                        전공탐색세미나(경제학)  유철규   \n",
       "4       전탐  VS00021                        전공탐색세미나(정치학)  박은홍   \n",
       "..     ...      ...                                 ...  ...   \n",
       "193     전선  XE00006                            딥러닝프레임워크  미지정   \n",
       "194     전선  XE00007                             확률과랜덤변수  이상윤   \n",
       "195     전선  XE00013                         Python프로그래밍  홍성준   \n",
       "196     전선  XE00014                          인공지능캡스톤디자인  이상윤   \n",
       "197     전선  XE00015                               컴퓨터비전  미지정   \n",
       "\n",
       "                                                강의실/시간  \n",
       "0    7309 / 화요일 / 15:00~16:15\\n7309 / 목요일 / 15:00~1...  \n",
       "1    3402 / 화요일 / 13:30~14:45\\n3402 / 목요일 / 13:30~1...  \n",
       "2                             7205 / 금요일 / 12:00~12:50  \n",
       "3                             7305 / 월요일 / 11:00~11:50  \n",
       "4                             7305 / 수요일 / 18:25~19:15  \n",
       "..                                                 ...  \n",
       "193                           6405 / 목요일 / 09:00~11:50  \n",
       "194  6405 / 화요일 / 13:30~14:45\\n6405 / 목요일 / 13:30~1...  \n",
       "195  B105 / 월요일 / 15:00~16:15\\nB105 / 수요일 / 15:00~1...  \n",
       "196                           6405 / 금요일 / 12:00~14:50  \n",
       "197  6405 / 화요일 / 15:00~16:15\\n6405 / 목요일 / 15:00~1...  \n",
       "\n",
       "[198 rows x 5 columns]"
      ]
     },
     "execution_count": 9,
     "metadata": {},
     "output_type": "execute_result"
    }
   ],
   "source": [
    "# 엉킨 인덱스 정리\n",
    "df.reset_index(drop=True, inplace=True)\n",
    "df"
   ]
  },
  {
   "cell_type": "code",
   "execution_count": null,
   "id": "8978f2f2-89c1-48fb-9335-4c27d63dd17c",
   "metadata": {},
   "outputs": [],
   "source": [
    "df.to_csv('csv4.csv', index=False)"
   ]
  }
 ],
 "metadata": {
  "kernelspec": {
   "display_name": "venv",
   "language": "python",
   "name": "venv"
  },
  "language_info": {
   "codemirror_mode": {
    "name": "ipython",
    "version": 3
   },
   "file_extension": ".py",
   "mimetype": "text/x-python",
   "name": "python",
   "nbconvert_exporter": "python",
   "pygments_lexer": "ipython3",
   "version": "3.9.7"
  }
 },
 "nbformat": 4,
 "nbformat_minor": 5
}
