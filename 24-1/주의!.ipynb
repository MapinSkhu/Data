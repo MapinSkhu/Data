{
 "cells": [
  {
   "cell_type": "markdown",
   "id": "0a635b31-fdda-4984-8717-7a92174ca87e",
   "metadata": {},
   "source": [
    "# 확인사항, 사봉, 채플 다시 확인하기"
   ]
  },
  {
   "cell_type": "code",
   "execution_count": null,
   "id": "36928abf-a04b-4d8b-9f9e-b6a7fe0b4e71",
   "metadata": {},
   "outputs": [],
   "source": []
  }
 ],
 "metadata": {
  "kernelspec": {
   "display_name": "venv",
   "language": "python",
   "name": "venv"
  },
  "language_info": {
   "codemirror_mode": {
    "name": "ipython",
    "version": 3
   },
   "file_extension": ".py",
   "mimetype": "text/x-python",
   "name": "python",
   "nbconvert_exporter": "python",
   "pygments_lexer": "ipython3",
   "version": "3.9.7"
  }
 },
 "nbformat": 4,
 "nbformat_minor": 5
}
