{
 "cells": [
  {
   "cell_type": "markdown",
   "id": "fa977680-1bdf-4c45-a51f-45b16680e39b",
   "metadata": {
    "jp-MarkdownHeadingCollapsed": true,
    "tags": []
   },
   "source": [
    "# extract_tables가 어떤 타입으로 테이블을 가져오는가 --> list로"
   ]
  },
  {
   "cell_type": "code",
   "execution_count": 2,
   "id": "c77758b3-c6b2-4537-8c4c-d9c1a95f4e04",
   "metadata": {},
   "outputs": [
    {
     "data": {
      "text/plain": [
       "list"
      ]
     },
     "execution_count": 2,
     "metadata": {},
     "output_type": "execute_result"
    }
   ],
   "source": [
    "import pandas as pd\n",
    "import pdfplumber as pp\n",
    "\n",
    "pdf = pp.open('24-1(0129).pdf')\n",
    "\n",
    "p = pdf.pages[0].extract_tables()\n",
    "\n",
    "type(p)"
   ]
  },
  {
   "cell_type": "code",
   "execution_count": 3,
   "id": "dd0e5f40-e0f7-4de8-a8c5-70b22b69d788",
   "metadata": {},
   "outputs": [
    {
     "name": "stdout",
     "output_type": "stream",
     "text": [
      "[[['순\\n번', '핵심역량', None, '영역', None, '이수\\n구분', '개설\\n학년', '과목코드', '분\\n반', '교과목명', '학\\n점', '교수명', '강의실/시간', '확인사항'], [None, '역량', '세부\\n영역', '영역', '세부영역', None, None, None, None, None, None, None, None, None], ['1', '대안\\n역량', '대안\\n제시·\\n문제\\n해결', '기초핵심\\n교육', '과목지정\\n필수', '교필', '1', 'AK00089', '01', '대학생활세미나 I', '1', '김혜인', '7304 / 금 / 10:00~11:50', '인문융합1반'], ['2', '대안\\n역량', '대안\\n제시·\\n문제\\n해결', '기초핵심\\n교육', '과목지정\\n필수', '교필', '1', 'AK00089', '02', '대학생활세미나 I', '1', '양기호', '7307 / 금 / 10:00~11:50', '인문융합2반'], ['3', '대안\\n역량', '대안\\n제시·\\n문제\\n해결', '기초핵심\\n교육', '과목지정\\n필수', '교필', '1', 'AK00089', '03', '대학생활세미나 I', '1', '윤영도', '7304 / 금 / 13:00~14:50', '인문융합3반'], ['4', '대안\\n역량', '대안\\n제시·\\n문제\\n해결', '기초핵심\\n교육', '과목지정\\n필수', '교필', '1', 'AK00089', '04', '대학생활세미나 I', '1', '이주엽', '7307 / 금 / 13:00~14:50', '인문융합4반'], ['5', '대안\\n역량', '대안\\n제시·\\n문제\\n해결', '기초핵심\\n교육', '과목지정\\n필수', '교필', '1', 'AK00089', '05', '대학생활세미나 I', '1', '조미혜', '7205 / 금 / 10:00~11:50', '사회융합1반'], ['6', '대안\\n역량', '대안\\n제시·\\n문제\\n해결', '기초핵심\\n교육', '과목지정\\n필수', '교필', '1', 'AK00089', '06', '대학생활세미나 I', '1', '윤석준', '7206 / 금 / 10:00~11:50', '사회융합2반'], ['7', '대안\\n역량', '대안\\n제시·\\n문제\\n해결', '기초핵심\\n교육', '과목지정\\n필수', '교필', '1', 'AK00089', '07', '대학생활세미나 I', '1', '이상철', '7205 / 금 / 13:00~14:50', '사회융합3반'], ['8', '대안\\n역량', '대안\\n제시·\\n문제\\n해결', '기초핵심\\n교육', '과목지정\\n필수', '교필', '1', 'AK00089', '08', '대학생활세미나 I', '1', '남일성', '7206 / 금 / 13:00~14:50', '사회융합4반'], ['9', '대안\\n역량', '대안\\n제시·\\n문제\\n해결', '기초핵심\\n교육', '과목지정\\n필수', '교필', '1', 'AK00089', '09', '대학생활세미나 I', '1', '김창남', '7301 / 금 / 10:00~11:50', '미디어융합1반'], ['10', '대안\\n역량', '대안\\n제시·\\n문제\\n해결', '기초핵심\\n교육', '과목지정\\n필수', '교필', '1', 'AK00089', '10', '대학생활세미나 I', '1', '이원정', '6402 / 금 / 10:00~11:50', '미디어융합2반'], ['11', '대안\\n역량', '대안\\n제시·\\n문제\\n해결', '기초핵심\\n교육', '과목지정\\n필수', '교필', '1', 'AK00089', '11', '대학생활세미나 I', '1', '김창남', '7301 / 금 / 13:00~14:50', '미디어융합3반'], ['12', '대안\\n역량', '대안\\n제시·\\n문제\\n해결', '기초핵심\\n교육', '과목지정\\n필수', '교필', '1', 'AK00089', '12', '대학생활세미나 I', '1', '이원정', '6402 / 금 / 13:00~14:50', '미디어융합4반'], ['13', '대안\\n역량', '대안\\n제시·\\n문제\\n해결', '기초핵심\\n교육', '과목지정\\n필수', '교필', '1', 'AK00089', '13', '대학생활세미나 I', '1', '송재민', '7204 / 금 / 10:00~11:50', '경영1반']]]\n"
     ]
    }
   ],
   "source": [
    "print(p)"
   ]
  },
  {
   "cell_type": "code",
   "execution_count": null,
   "id": "38e882d9-0a70-406f-a7ea-9b2cf1b8ada1",
   "metadata": {},
   "outputs": [],
   "source": []
  },
  {
   "cell_type": "code",
   "execution_count": null,
   "id": "13f8a86e-26ce-4058-8485-37ed66a906dc",
   "metadata": {},
   "outputs": [],
   "source": []
  },
  {
   "cell_type": "markdown",
   "id": "c318084f-1885-4088-9f0b-db041a868539",
   "metadata": {},
   "source": [
    "# 특정 문자 포함 행 추출 : df.query('col.str.contains(\"문자\")')"
   ]
  },
  {
   "cell_type": "code",
   "execution_count": 6,
   "id": "dd513505-8c7b-4a7c-93e8-68be0ec498f3",
   "metadata": {},
   "outputs": [
    {
     "data": {
      "text/html": [
       "<div>\n",
       "<style scoped>\n",
       "    .dataframe tbody tr th:only-of-type {\n",
       "        vertical-align: middle;\n",
       "    }\n",
       "\n",
       "    .dataframe tbody tr th {\n",
       "        vertical-align: top;\n",
       "    }\n",
       "\n",
       "    .dataframe thead th {\n",
       "        text-align: right;\n",
       "    }\n",
       "</style>\n",
       "<table border=\"1\" class=\"dataframe\">\n",
       "  <thead>\n",
       "    <tr style=\"text-align: right;\">\n",
       "      <th></th>\n",
       "      <th>이름</th>\n",
       "      <th>나이</th>\n",
       "    </tr>\n",
       "  </thead>\n",
       "  <tbody>\n",
       "    <tr>\n",
       "      <th>0</th>\n",
       "      <td>야옹이</td>\n",
       "      <td>50</td>\n",
       "    </tr>\n",
       "    <tr>\n",
       "      <th>1</th>\n",
       "      <td>멍멍이</td>\n",
       "      <td>15</td>\n",
       "    </tr>\n",
       "    <tr>\n",
       "      <th>2</th>\n",
       "      <td>참새</td>\n",
       "      <td>6</td>\n",
       "    </tr>\n",
       "  </tbody>\n",
       "</table>\n",
       "</div>"
      ],
      "text/plain": [
       "    이름  나이\n",
       "0  야옹이  50\n",
       "1  멍멍이  15\n",
       "2   참새   6"
      ]
     },
     "execution_count": 6,
     "metadata": {},
     "output_type": "execute_result"
    }
   ],
   "source": [
    "import pandas as pd\n",
    "\n",
    "df = pd.DataFrame({\n",
    "    '이름':['야옹이','멍멍이','참새'],\n",
    "    '나이':['50','15','6']\n",
    "})\n",
    "df"
   ]
  },
  {
   "cell_type": "code",
   "execution_count": 7,
   "id": "44b93076-0658-4e4e-ad65-550e37df70e2",
   "metadata": {},
   "outputs": [
    {
     "data": {
      "text/html": [
       "<div>\n",
       "<style scoped>\n",
       "    .dataframe tbody tr th:only-of-type {\n",
       "        vertical-align: middle;\n",
       "    }\n",
       "\n",
       "    .dataframe tbody tr th {\n",
       "        vertical-align: top;\n",
       "    }\n",
       "\n",
       "    .dataframe thead th {\n",
       "        text-align: right;\n",
       "    }\n",
       "</style>\n",
       "<table border=\"1\" class=\"dataframe\">\n",
       "  <thead>\n",
       "    <tr style=\"text-align: right;\">\n",
       "      <th></th>\n",
       "      <th>이름</th>\n",
       "      <th>나이</th>\n",
       "    </tr>\n",
       "  </thead>\n",
       "  <tbody>\n",
       "    <tr>\n",
       "      <th>0</th>\n",
       "      <td>야옹이</td>\n",
       "      <td>50</td>\n",
       "    </tr>\n",
       "    <tr>\n",
       "      <th>1</th>\n",
       "      <td>멍멍이</td>\n",
       "      <td>15</td>\n",
       "    </tr>\n",
       "  </tbody>\n",
       "</table>\n",
       "</div>"
      ],
      "text/plain": [
       "    이름  나이\n",
       "0  야옹이  50\n",
       "1  멍멍이  15"
      ]
     },
     "execution_count": 7,
     "metadata": {},
     "output_type": "execute_result"
    }
   ],
   "source": [
    "df.query('이름.str.contains(\"이\")')"
   ]
  },
  {
   "cell_type": "code",
   "execution_count": null,
   "id": "9e0ce114-6324-4b3a-9c5b-10eff1a25258",
   "metadata": {},
   "outputs": [],
   "source": []
  }
 ],
 "metadata": {
  "kernelspec": {
   "display_name": "venv",
   "language": "python",
   "name": "venv"
  },
  "language_info": {
   "codemirror_mode": {
    "name": "ipython",
    "version": 3
   },
   "file_extension": ".py",
   "mimetype": "text/x-python",
   "name": "python",
   "nbconvert_exporter": "python",
   "pygments_lexer": "ipython3",
   "version": "3.9.7"
  }
 },
 "nbformat": 4,
 "nbformat_minor": 5
}
